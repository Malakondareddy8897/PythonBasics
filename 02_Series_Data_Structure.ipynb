{
  "cells": [
    {
      "cell_type": "markdown",
      "metadata": {
        "id": "view-in-github",
        "colab_type": "text"
      },
      "source": [
        "<a href=\"https://colab.research.google.com/github/Malakondareddy8897/PythonBasics/blob/main/02_Series_Data_Structure.ipynb\" target=\"_parent\"><img src=\"https://colab.research.google.com/assets/colab-badge.svg\" alt=\"Open In Colab\"/></a>"
      ]
    },
    {
      "cell_type": "code",
      "execution_count": null,
      "metadata": {
        "id": "mP727CFaoQUE"
      },
      "outputs": [],
      "source": [
        "# pandas and numpy --> data science\n",
        "# manipulate // analyse the data!!"
      ]
    },
    {
      "cell_type": "markdown",
      "metadata": {
        "id": "xz4gDqMkoQUL"
      },
      "source": [
        "# What is Pandas?"
      ]
    },
    {
      "cell_type": "markdown",
      "metadata": {
        "id": "cuPgDj_6oQUO"
      },
      "source": [
        "Pandas is one of the most important libraries of Python.\n",
        "</br>\n",
        "Pandas has data structures for data analysis. The most used of these are Series and DataFrame data structures. Series is one dimensional, that is, it consists of a column. Data frame is two-dimensional, i.e. it consists of rows and columns."
      ]
    },
    {
      "cell_type": "markdown",
      "metadata": {
        "id": "iIfFlCKDoQUP"
      },
      "source": [
        "To install Pandas, you can use \"pip install pandas\""
      ]
    },
    {
      "cell_type": "code",
      "execution_count": null,
      "metadata": {
        "id": "4bdwijTQoQUQ"
      },
      "outputs": [],
      "source": [
        "import numpy  as np\n",
        "import pandas as pd"
      ]
    },
    {
      "cell_type": "code",
      "execution_count": null,
      "metadata": {
        "scrolled": true,
        "id": "BdjWw2SBoQUQ",
        "outputId": "5cbcdc38-000b-42e1-b2be-7405ad472b32"
      },
      "outputs": [
        {
          "data": {
            "text/plain": [
              "'2.2.0'"
            ]
          },
          "execution_count": 4,
          "metadata": {},
          "output_type": "execute_result"
        }
      ],
      "source": [
        "pd.__version__ # To print the installed vesion pandas"
      ]
    },
    {
      "cell_type": "code",
      "execution_count": null,
      "metadata": {
        "id": "19ARS7SBoQUS"
      },
      "outputs": [],
      "source": []
    },
    {
      "cell_type": "code",
      "execution_count": null,
      "metadata": {
        "id": "zHw5fzc5oQUT"
      },
      "outputs": [],
      "source": [
        "# list,tuple, set, dict --> python data types\n",
        "# int, bool, str, float --> data types\n",
        "# numpy arrays --> numpy data type\n",
        "# series, dataframe --> pandas data type"
      ]
    },
    {
      "cell_type": "markdown",
      "metadata": {
        "id": "9kL7au2zoQUU"
      },
      "source": [
        "# Series Data Structure"
      ]
    },
    {
      "cell_type": "markdown",
      "metadata": {
        "id": "d1iBhv6UoQUU"
      },
      "source": [
        "A Pandas Series is like a column in a table. It is a one-dimensional array holding data of any type."
      ]
    },
    {
      "cell_type": "code",
      "execution_count": null,
      "metadata": {
        "id": "eMeUgJ8XoQUV",
        "outputId": "1a2eef2a-c7bf-47b8-c2fd-4a5aa1375b22"
      },
      "outputs": [
        {
          "data": {
            "text/plain": [
              "0       1\n",
              "1    John\n",
              "2     3.5\n",
              "3     Hey\n",
              "dtype: object"
            ]
          },
          "execution_count": 5,
          "metadata": {},
          "output_type": "execute_result"
        }
      ],
      "source": [
        "obj = pd.Series([1,\"John\",3.5,\"Hey\"])\n",
        "obj"
      ]
    },
    {
      "cell_type": "code",
      "execution_count": null,
      "metadata": {
        "id": "1YhcJcL9oQUW",
        "outputId": "1f7148a2-19f7-4fd2-ccfa-916042d2eda5"
      },
      "outputs": [
        {
          "data": {
            "text/plain": [
              "pandas.core.series.Series"
            ]
          },
          "execution_count": 6,
          "metadata": {},
          "output_type": "execute_result"
        }
      ],
      "source": [
        "type(obj)"
      ]
    },
    {
      "cell_type": "code",
      "execution_count": null,
      "metadata": {
        "id": "fINyNSH6oQUX",
        "outputId": "fbab1132-7d68-40de-ed6f-97e50ab34070"
      },
      "outputs": [
        {
          "data": {
            "text/plain": [
              "3.5"
            ]
          },
          "execution_count": 7,
          "metadata": {},
          "output_type": "execute_result"
        }
      ],
      "source": [
        "obj[2]"
      ]
    },
    {
      "cell_type": "code",
      "execution_count": null,
      "metadata": {
        "id": "P7lIzDwmoQUY",
        "outputId": "eb421ad8-4260-4426-c993-b068396e5508"
      },
      "outputs": [
        {
          "data": {
            "text/plain": [
              "0       1\n",
              "1    John\n",
              "2     3.5\n",
              "3     Hey\n",
              "dtype: object"
            ]
          },
          "execution_count": 8,
          "metadata": {},
          "output_type": "execute_result"
        }
      ],
      "source": [
        "obj"
      ]
    },
    {
      "cell_type": "code",
      "execution_count": null,
      "metadata": {
        "scrolled": true,
        "id": "VkGfBkD_oQUY",
        "outputId": "80774a24-254d-4320-91b4-11da37ad7a4a"
      },
      "outputs": [
        {
          "data": {
            "text/plain": [
              "0       1\n",
              "1    John\n",
              "2     3.5\n",
              "dtype: object"
            ]
          },
          "execution_count": 9,
          "metadata": {},
          "output_type": "execute_result"
        }
      ],
      "source": [
        "obj[:3]\n",
        "# 0,1,2,(3 not incl.)"
      ]
    },
    {
      "cell_type": "code",
      "execution_count": null,
      "metadata": {
        "id": "giTchI9xoQUZ",
        "outputId": "f5ef1654-6a4a-40de-c922-5b0a5b04b848"
      },
      "outputs": [
        {
          "data": {
            "text/plain": [
              "0       1\n",
              "1    John\n",
              "2     3.5\n",
              "3     Hey\n",
              "dtype: object"
            ]
          },
          "execution_count": 10,
          "metadata": {},
          "output_type": "execute_result"
        }
      ],
      "source": [
        "obj"
      ]
    },
    {
      "cell_type": "code",
      "execution_count": null,
      "metadata": {
        "scrolled": true,
        "id": "RP5aChtAoQUZ",
        "outputId": "62a75d25-9d5c-40bb-e4ba-81f533d27cca"
      },
      "outputs": [
        {
          "data": {
            "text/plain": [
              "array([1, 'John', 3.5, 'Hey'], dtype=object)"
            ]
          },
          "execution_count": 11,
          "metadata": {},
          "output_type": "execute_result"
        }
      ],
      "source": [
        "obj.values"
      ]
    },
    {
      "cell_type": "code",
      "execution_count": null,
      "metadata": {
        "id": "QZ5r9kk_oQUa",
        "outputId": "623438a1-aad7-428c-a72d-502b645df8d3"
      },
      "outputs": [
        {
          "data": {
            "text/plain": [
              "RangeIndex(start=0, stop=4, step=1)"
            ]
          },
          "execution_count": 12,
          "metadata": {},
          "output_type": "execute_result"
        }
      ],
      "source": [
        "obj.index"
      ]
    },
    {
      "cell_type": "code",
      "execution_count": null,
      "metadata": {
        "id": "B73TDD21oQUa"
      },
      "outputs": [],
      "source": []
    },
    {
      "cell_type": "code",
      "execution_count": null,
      "metadata": {
        "id": "EWAETyFpoQUa",
        "outputId": "45a5eb68-c045-46b8-cdd9-f3937285d140"
      },
      "outputs": [
        {
          "data": {
            "text/plain": [
              "a       1\n",
              "b    John\n",
              "c     3.5\n",
              "d     Hey\n",
              "dtype: object"
            ]
          },
          "execution_count": 14,
          "metadata": {},
          "output_type": "execute_result"
        }
      ],
      "source": [
        "obj2=pd.Series([1,\"John\",3.5,\"Hey\"],\n",
        "               index=[\"a\",\"b\",\"c\",\"d\"])\n",
        "obj2"
      ]
    },
    {
      "cell_type": "code",
      "execution_count": null,
      "metadata": {
        "id": "SEI6osAioQUb",
        "outputId": "44f7ba7c-c997-4f8b-8f4f-abad62f7dfb4"
      },
      "outputs": [
        {
          "data": {
            "text/plain": [
              "'John'"
            ]
          },
          "execution_count": 15,
          "metadata": {},
          "output_type": "execute_result"
        }
      ],
      "source": [
        "obj2[\"b\"]"
      ]
    },
    {
      "cell_type": "code",
      "execution_count": null,
      "metadata": {
        "id": "i4vTmdi_oQUb",
        "outputId": "b7047b87-e150-4097-d8ae-0c9effa2c3fd"
      },
      "outputs": [
        {
          "data": {
            "text/plain": [
              "Index(['a', 'b', 'c', 'd'], dtype='object')"
            ]
          },
          "execution_count": 16,
          "metadata": {},
          "output_type": "execute_result"
        }
      ],
      "source": [
        "obj2.index"
      ]
    },
    {
      "cell_type": "code",
      "execution_count": null,
      "metadata": {
        "id": "dSM6lqoRoQUc",
        "outputId": "60fa3b5d-9268-4831-b04f-09178b39b18b"
      },
      "outputs": [
        {
          "data": {
            "text/plain": [
              "array([1, 'John', 3.5, 'Hey'], dtype=object)"
            ]
          },
          "execution_count": 17,
          "metadata": {},
          "output_type": "execute_result"
        }
      ],
      "source": [
        "obj2.values"
      ]
    },
    {
      "cell_type": "code",
      "execution_count": null,
      "metadata": {
        "id": "pF6IVERaoQUc"
      },
      "outputs": [],
      "source": []
    },
    {
      "cell_type": "code",
      "execution_count": null,
      "metadata": {
        "id": "6UK__lMCoQUc",
        "outputId": "5ab7554d-2b8f-4b58-c15f-1d5fa2a5d304"
      },
      "outputs": [
        {
          "name": "stdout",
          "output_type": "stream",
          "text": [
            "<class 'dict'>\n"
          ]
        }
      ],
      "source": [
        "score={\"Jane\":69, \"Bill\":80,\"Elon\":85,\"Tom\":75,\"Tim\":95}\n",
        "print(type(score))"
      ]
    },
    {
      "cell_type": "code",
      "execution_count": null,
      "metadata": {
        "id": "ZBY_-xuCoQUd",
        "outputId": "6a71ec37-fcc6-4ddc-f9bf-64d98d86292f"
      },
      "outputs": [
        {
          "name": "stdout",
          "output_type": "stream",
          "text": [
            "{'Jane': 69, 'Bill': 80, 'Elon': 85, 'Tom': 75, 'Tim': 95}\n"
          ]
        }
      ],
      "source": [
        "print(score)"
      ]
    },
    {
      "cell_type": "code",
      "execution_count": null,
      "metadata": {
        "id": "98hFTojToQUd",
        "outputId": "6452a9cd-2cd8-48a4-b529-f9cd7ead8a99"
      },
      "outputs": [
        {
          "data": {
            "text/plain": [
              "Jane    69\n",
              "Bill    80\n",
              "Elon    85\n",
              "Tom     75\n",
              "Tim     95\n",
              "dtype: int64"
            ]
          },
          "execution_count": 20,
          "metadata": {},
          "output_type": "execute_result"
        }
      ],
      "source": [
        "names=pd.Series(score) # Convert to Series\n",
        "names"
      ]
    },
    {
      "cell_type": "code",
      "execution_count": null,
      "metadata": {
        "id": "2vvJLKz6oQUd"
      },
      "outputs": [],
      "source": [
        "# names['tom']\n",
        "# error !!!!!!"
      ]
    },
    {
      "cell_type": "code",
      "execution_count": null,
      "metadata": {
        "scrolled": true,
        "id": "bXur4bdNoQUe",
        "outputId": "539056d2-c07a-48e7-9093-abd3ab55d977"
      },
      "outputs": [
        {
          "data": {
            "text/plain": [
              "95"
            ]
          },
          "execution_count": 23,
          "metadata": {},
          "output_type": "execute_result"
        }
      ],
      "source": [
        "names[\"Tim\"]"
      ]
    },
    {
      "cell_type": "code",
      "execution_count": null,
      "metadata": {
        "id": "wvCpRmtzoQUe",
        "outputId": "b600d71a-4bc8-4ea0-8479-96daa6268425"
      },
      "outputs": [
        {
          "data": {
            "text/plain": [
              "85"
            ]
          },
          "execution_count": 24,
          "metadata": {},
          "output_type": "execute_result"
        }
      ],
      "source": [
        "names['Elon']"
      ]
    },
    {
      "cell_type": "code",
      "execution_count": null,
      "metadata": {
        "id": "mPTzj13NoQUf",
        "outputId": "de6bd8f5-5b68-43dc-8e6b-fe7d85286745"
      },
      "outputs": [
        {
          "data": {
            "text/plain": [
              "Jane    69\n",
              "Bill    80\n",
              "Elon    85\n",
              "Tom     75\n",
              "Tim     95\n",
              "dtype: int64"
            ]
          },
          "execution_count": 25,
          "metadata": {},
          "output_type": "execute_result"
        }
      ],
      "source": [
        "names"
      ]
    },
    {
      "cell_type": "code",
      "execution_count": null,
      "metadata": {
        "id": "xBWT49F7oQUf",
        "outputId": "d773b6af-4293-4b91-8ad6-3124fe1627a1"
      },
      "outputs": [
        {
          "data": {
            "text/plain": [
              "True"
            ]
          },
          "execution_count": 26,
          "metadata": {},
          "output_type": "execute_result"
        }
      ],
      "source": [
        "20 > 10"
      ]
    },
    {
      "cell_type": "code",
      "execution_count": null,
      "metadata": {
        "id": "ldZSQBTxoQUf",
        "outputId": "83adc4a4-c4ea-4664-8620-189f3dd484ed"
      },
      "outputs": [
        {
          "data": {
            "text/plain": [
              "Jane    False\n",
              "Bill    False\n",
              "Elon     True\n",
              "Tom     False\n",
              "Tim      True\n",
              "dtype: bool"
            ]
          },
          "execution_count": 27,
          "metadata": {},
          "output_type": "execute_result"
        }
      ],
      "source": [
        "names >= 85"
      ]
    },
    {
      "cell_type": "code",
      "execution_count": null,
      "metadata": {
        "id": "Lq2DlZxZoQUg",
        "outputId": "34aa2df3-785c-4c08-8755-db7973fc71c1"
      },
      "outputs": [
        {
          "data": {
            "text/plain": [
              "Elon    85\n",
              "Tim     95\n",
              "dtype: int64"
            ]
          },
          "execution_count": 28,
          "metadata": {},
          "output_type": "execute_result"
        }
      ],
      "source": [
        "names[names>=85]"
      ]
    },
    {
      "cell_type": "code",
      "execution_count": null,
      "metadata": {
        "id": "w_2DgNvAoQUg",
        "outputId": "81622292-4ee6-400c-a5cc-120832e7d653"
      },
      "outputs": [
        {
          "data": {
            "text/plain": [
              "Jane    69\n",
              "Bill    80\n",
              "Elon    85\n",
              "Tom     75\n",
              "Tim     95\n",
              "dtype: int64"
            ]
          },
          "execution_count": 29,
          "metadata": {},
          "output_type": "execute_result"
        }
      ],
      "source": [
        "names"
      ]
    },
    {
      "cell_type": "code",
      "execution_count": null,
      "metadata": {
        "id": "COt0NcgqoQUh",
        "outputId": "458282b3-4c7d-41de-a266-e03d59a1f451"
      },
      "outputs": [
        {
          "data": {
            "text/plain": [
              "False"
            ]
          },
          "execution_count": 30,
          "metadata": {},
          "output_type": "execute_result"
        }
      ],
      "source": [
        "\"tom\" in names"
      ]
    },
    {
      "cell_type": "code",
      "execution_count": null,
      "metadata": {
        "id": "sD0g1YQgoQUh",
        "outputId": "972d232f-249e-4590-8e1e-fe0cead64792"
      },
      "outputs": [
        {
          "data": {
            "text/plain": [
              "True"
            ]
          },
          "execution_count": 31,
          "metadata": {},
          "output_type": "execute_result"
        }
      ],
      "source": [
        "\"Tom\" in names"
      ]
    },
    {
      "cell_type": "code",
      "execution_count": null,
      "metadata": {
        "id": "FIyI1dFUoQUh"
      },
      "outputs": [],
      "source": []
    },
    {
      "cell_type": "code",
      "execution_count": null,
      "metadata": {
        "id": "8shMotutoQUh",
        "outputId": "35995f08-2ed3-4929-92a4-2340b2ef7b76"
      },
      "outputs": [
        {
          "data": {
            "text/plain": [
              "Jane    69\n",
              "Bill    80\n",
              "Elon    85\n",
              "Tom     75\n",
              "Tim     95\n",
              "dtype: int64"
            ]
          },
          "execution_count": 32,
          "metadata": {},
          "output_type": "execute_result"
        }
      ],
      "source": [
        "names"
      ]
    },
    {
      "cell_type": "code",
      "execution_count": null,
      "metadata": {
        "id": "AvxG2LN6oQUr",
        "outputId": "93eb87c3-4c22-4aa1-aefb-766079c60aa6"
      },
      "outputs": [
        {
          "data": {
            "text/plain": [
              "Jane    6.9\n",
              "Bill    8.0\n",
              "Elon    8.5\n",
              "Tom     7.5\n",
              "Tim     9.5\n",
              "dtype: float64"
            ]
          },
          "execution_count": 34,
          "metadata": {},
          "output_type": "execute_result"
        }
      ],
      "source": [
        "names/10"
      ]
    },
    {
      "cell_type": "code",
      "execution_count": null,
      "metadata": {
        "id": "Gj4KMtdxoQUs"
      },
      "outputs": [],
      "source": []
    },
    {
      "cell_type": "code",
      "execution_count": 2,
      "metadata": {
        "colab": {
          "base_uri": "https://localhost:8080/"
        },
        "id": "aMFEgDcDoQUs",
        "outputId": "4258cc23-c284-4fc1-abd4-ac4d77084d92"
      },
      "outputs": [
        {
          "output_type": "stream",
          "name": "stdout",
          "text": [
            "hello\n"
          ]
        }
      ],
      "source": [
        "print('hello')"
      ]
    },
    {
      "cell_type": "code",
      "source": [],
      "metadata": {
        "id": "qB2-O0VL1J95"
      },
      "execution_count": null,
      "outputs": []
    }
  ],
  "metadata": {
    "kernelspec": {
      "display_name": "Python 3 (ipykernel)",
      "language": "python",
      "name": "python3"
    },
    "language_info": {
      "codemirror_mode": {
        "name": "ipython",
        "version": 3
      },
      "file_extension": ".py",
      "mimetype": "text/x-python",
      "name": "python",
      "nbconvert_exporter": "python",
      "pygments_lexer": "ipython3",
      "version": "3.9.7"
    },
    "colab": {
      "provenance": [],
      "include_colab_link": true
    }
  },
  "nbformat": 4,
  "nbformat_minor": 0
}